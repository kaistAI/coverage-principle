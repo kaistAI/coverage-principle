{
 "cells": [
  {
   "cell_type": "code",
   "execution_count": 2,
   "metadata": {},
   "outputs": [
    {
     "name": "stderr",
     "output_type": "stream",
     "text": [
      "/mnt/sda/jinho/.conda/envs/grokked_transformer/lib/python3.10/site-packages/tqdm/auto.py:21: TqdmWarning: IProgress not found. Please update jupyter and ipywidgets. See https://ipywidgets.readthedocs.io/en/stable/user_install.html\n",
      "  from .autonotebook import tqdm as notebook_tqdm\n"
     ]
    }
   ],
   "source": [
    "import json\n",
    "import numpy as np\n",
    "import random\n",
    "from tqdm.auto import tqdm\n",
    "import itertools\n",
    "import os\n",
    "from copy import deepcopy\n",
    "import matplotlib.pyplot as plt"
   ]
  },
  {
   "cell_type": "code",
   "execution_count": 38,
   "metadata": {},
   "outputs": [],
   "source": [
    "def build_dicts(entities):\n",
    "    entity2ind = dict()\n",
    "    ind2entity = []\n",
    "    for i in range(len(entities)):\n",
    "        entity = entities[i]\n",
    "        if not (entity in ind2entity):\n",
    "            ind2entity.append(entity)\n",
    "            entity2ind[entity] = len(ind2entity) - 1\n",
    "    return ind2entity, entity2ind\n",
    "\n",
    "def choose(arr, ratio_or_count):\n",
    "    if type(ratio_or_count) == float:\n",
    "        num = round(ratio_or_count*len(arr))\n",
    "    elif type(ratio_or_count) == int:\n",
    "        num = ratio_or_count\n",
    "    else:\n",
    "         assert False\n",
    "    if num >= len(arr):\n",
    "        return arr\n",
    "    rand_inds = np.random.choice(len(arr), num, replace=False).tolist()\n",
    "    return [arr[i] for i in rand_inds]\n",
    "    \n",
    "def split(arr, ratio_or_count):\n",
    "    if type(ratio_or_count) == float:\n",
    "        num = round(ratio_or_count*len(arr))\n",
    "    elif type(ratio_or_count) == int:\n",
    "        num = ratio_or_count\n",
    "    else:\n",
    "         assert False\n",
    "    train, test = [], []\n",
    "    rand_inds = np.random.choice(len(arr), num, replace=False).tolist()\n",
    "    for i in tqdm(range(len(arr))):\n",
    "        if i in rand_inds:\n",
    "            train.append(arr[i])\n",
    "        else:\n",
    "            test.append(arr[i])\n",
    "    return [train, test]\n",
    "\n",
    "def form_items(c, t):\n",
    "    input_text = \"\".join(c)\n",
    "    target_text = input_text + \"\".join([t, \"</a>\"])\n",
    "    item = {\n",
    "        \"input_text\": input_text,\n",
    "        \"target_text\": target_text\n",
    "    }\n",
    "    return item"
   ]
  },
  {
   "cell_type": "code",
   "execution_count": 39,
   "metadata": {},
   "outputs": [
    {
     "name": "stdout",
     "output_type": "stream",
     "text": [
      "382000\n"
     ]
    },
    {
     "name": "stderr",
     "output_type": "stream",
     "text": [
      "100%|██████████| 382000/382000 [00:00<00:00, 1523078.86it/s]"
     ]
    },
    {
     "name": "stdout",
     "output_type": "stream",
     "text": [
      "342000\n"
     ]
    },
    {
     "name": "stderr",
     "output_type": "stream",
     "text": [
      "\n"
     ]
    }
   ],
   "source": [
    "with open(\"/home/jinho/repos/GrokkedTransformer/data/composition.2000.200.9.0-controlled/train.json\") as f:\n",
    "    train_items = json.load(f)\n",
    "    \n",
    "print(len(train_items))\n",
    "\n",
    "inferred_fact_num = 0\n",
    "for item in tqdm(train_items):\n",
    "    temp = item['target_text'].strip(\"><\").split(\"><\")\n",
    "    if len(temp) == 4:\n",
    "        continue\n",
    "    inferred_fact_num += 1\n",
    "    \n",
    "    \n",
    "print(inferred_fact_num)"
   ]
  },
  {
   "cell_type": "code",
   "execution_count": 40,
   "metadata": {},
   "outputs": [
    {
     "name": "stderr",
     "output_type": "stream",
     "text": [
      "  0%|          | 0/2000 [00:00<?, ?it/s]"
     ]
    },
    {
     "name": "stderr",
     "output_type": "stream",
     "text": [
      "100%|██████████| 2000/2000 [00:00<00:00, 13374.72it/s]\n",
      "100%|██████████| 40000/40000 [00:00<00:00, 58432.54it/s]\n",
      "100%|██████████| 2000/2000 [00:38<00:00, 51.57it/s]\n",
      "100%|██████████| 2000/2000 [00:00<00:00, 12925.62it/s]\n",
      "100%|██████████| 200/200 [00:00<00:00, 17940.86it/s]\n"
     ]
    }
   ],
   "source": [
    "def build_dataset(num_entities, num_relations, out_degree=20, split_train_inferred=False):\n",
    " \n",
    "    entities = [\"<e_{}>\".format(i) for i in range(num_entities)]\n",
    "    ind2entity, entity2ind = build_dicts(entities)\n",
    "\n",
    "    relations = [\"<r_{}>\".format(i) for i in range(num_relations)]\n",
    "    ind2relation, relation2ind = build_dicts(relations)\n",
    "\n",
    "    atomic_dict = dict()   # maps a head entity to a list of (r, t) pairs\n",
    "    atomic_facts = []\n",
    "    atomics = []\n",
    "\n",
    "    for i in tqdm(range(num_entities)):\n",
    "        # for each subject entity, randomly select some outgoing relations to some random object entity\n",
    "        num_rows = out_degree\n",
    "        selected_rows = np.random.choice(num_relations, size=num_rows, replace=False).tolist()\n",
    "        for row_idx in selected_rows:\n",
    "            col_idx = np.random.randint(num_entities)  # pick some random tail entity for each selected (h,r)\n",
    "            h,r,t = ind2entity[i], ind2relation[row_idx], ind2entity[col_idx]\n",
    "            atomic_facts.append(form_items([h, r], t))\n",
    "            atomics.append((h,r,t))\n",
    "            if h not in atomic_dict:\n",
    "                atomic_dict[h] = []\n",
    "            atomic_dict[h].append((r, t))\n",
    "    if not split_train_inferred:\n",
    "        inferred_facts = []\n",
    "        for ent in tqdm(entities):\n",
    "            for (r1, b) in atomic_dict[ent]:\n",
    "                for (r2, t) in atomic_dict[b]:\n",
    "                    inferred_facts.append(form_items([ent, r1, r2], t))\n",
    "        return entities, relations, atomic_facts, inferred_facts\n",
    "    \n",
    "    # split ID/OOD\n",
    "    OOD_ratio = 0.05\n",
    "    OOD_facts, ID_facts = split(atomics, round(len(atomics)*OOD_ratio))\n",
    "    OOD_facts, ID_facts = set(OOD_facts), set(ID_facts)\n",
    "    only_used_ID_facts = random.sample(list(ID_facts), 2000)\n",
    "    o2_ID_facts = only_used_ID_facts[:1000]\n",
    "    o1_ID_facts = only_used_ID_facts[1000:]\n",
    "    \n",
    "    id_atomic_facts = [form_items([h, r], t) for (h,r,t) in ID_facts]\n",
    "    ood_atomic_facts = [form_items([h, r], t) for (h,r,t) in OOD_facts]\n",
    "    o1_id_atomic_facts = [form_items([h, r], t) for (h,r,t) in o1_ID_facts]\n",
    "    o2_id_atomic_facts = [form_items([h, r], t) for (h,r,t) in o2_ID_facts]\n",
    "\n",
    "    train_inferred, test_inferred_iid, test_inferred_iid_o2_error, test_inferred_iid_o1_error, test_inferred_ood, test_io, test_oi = [], [], [], [], [], [], []\n",
    "    for ent in tqdm(entities):\n",
    "        for (r1, b) in atomic_dict[ent]:\n",
    "            for (r2, t) in atomic_dict[b]:\n",
    "                if (ent, r1, b) in OOD_facts and (b, r2, t) in OOD_facts:\n",
    "                    test_inferred_ood.append(form_items([ent, r1, r2], t))\n",
    "                elif (ent, r1, b) in ID_facts and (b, r2, t) in OOD_facts:\n",
    "                    test_io.append(form_items([ent, r1, r2], t))\n",
    "                elif (ent, r1, b) in OOD_facts and (b, r2, t) in ID_facts:\n",
    "                    test_oi.append(form_items([ent, r1, r2], t))\n",
    "                elif (ent, r1, b) in o2_ID_facts:\n",
    "                    test_inferred_iid_o2_error.append(form_items([ent, r1, r2], t))\n",
    "                elif (b, r2, t) in o1_ID_facts:\n",
    "                    test_inferred_iid_o1_error.append(form_items([ent, r1, r2], t))\n",
    "                else:\n",
    "                    if np.random.uniform() > 0.005:\n",
    "                        train_inferred.append(form_items([ent, r1, r2], t))\n",
    "                    else:\n",
    "                        test_inferred_iid.append(form_items([ent, r1, r2], t))\n",
    "\n",
    "    nonsenses = []\n",
    "    for i in tqdm(range(num_entities)):\n",
    "        # for each subject entity, randomly select some outgoing relations to some random object entity\n",
    "        num_rows = out_degree\n",
    "        selected_rows = np.random.choice(num_entities, size=num_rows, replace=False).tolist()\n",
    "        for row_idx in selected_rows:\n",
    "            col_idx = np.random.randint(num_entities)  # pick some random tail entity for each selected (h,r)\n",
    "            e1, e2, e3 = ind2entity[i], ind2entity[row_idx], ind2entity[col_idx]\n",
    "            nonsenses.append((e1,e2,e3))\n",
    "            \n",
    "    for i in tqdm(range(num_relations)):\n",
    "        # for each subject entity, randomly select some outgoing relations to some random object entity\n",
    "        num_rows = out_degree\n",
    "        selected_rows = np.random.choice(num_relations, size=num_rows, replace=False).tolist()\n",
    "        for row_idx in selected_rows:\n",
    "            col_idx = np.random.randint(num_relations)  # pick some random tail entity for each selected (h,r)\n",
    "            r1, r2, r3 = ind2relation[i], ind2relation[row_idx], ind2relation[col_idx]\n",
    "            nonsenses.append((r1,r2,r3))\n",
    "            \n",
    "    nonsenses = set(nonsenses)\n",
    "    nonsenses_facts = [form_items([t1, t2], t3) for (t1,t2,t3) in nonsenses]\n",
    "    \n",
    "    return entities, relations, id_atomic_facts, ood_atomic_facts, o1_id_atomic_facts, o2_id_atomic_facts, train_inferred, test_inferred_iid, test_inferred_iid_o2_error, test_inferred_iid_o1_error, test_inferred_ood, test_io, test_oi, nonsenses_facts\n",
    "\n",
    "\n",
    "NUM_ENTITY_IN = 2000\n",
    "NUM_RELATION = 200\n",
    "\n",
    "# entities, relations, atomic_facts, inferred_facts = build_dataset(NUM_ENTITY_IN, NUM_RELATION, split_train_inferred=False)\n",
    "train_entities, train_relations, id_atomic_facts, ood_atomic_facts, o1_id_atomic_facts, o2_id_atomic_facts, train_inferred, test_inferred_iid, test_inferred_iid_o2_error, test_inferred_iid_o1_error, test_inferred_ood, test_io, test_oi, nonsenses = build_dataset(NUM_ENTITY_IN, NUM_RELATION, split_train_inferred=True)"
   ]
  },
  {
   "cell_type": "code",
   "execution_count": 41,
   "metadata": {},
   "outputs": [
    {
     "name": "stdout",
     "output_type": "stream",
     "text": [
      "vocab size: 2206\n"
     ]
    }
   ],
   "source": [
    "vocab = []\n",
    "vocab = vocab + train_entities + train_relations\n",
    "# special tokens\n",
    "vocab = vocab + [\"<mask>\", \"<sep>\", \"<a>\", \"</a>\", \"<q>\", \"</q>\"]\n",
    "assert len(vocab) == len(set(vocab))\n",
    "print(\"vocab size:\", len(vocab))"
   ]
  },
  {
   "cell_type": "code",
   "execution_count": 42,
   "metadata": {},
   "outputs": [
    {
     "data": {
      "text/plain": [
       "40000"
      ]
     },
     "execution_count": 42,
     "metadata": {},
     "output_type": "execute_result"
    }
   ],
   "source": [
    "# id_atomic_facts, ood_atomic_facts, o1_id_atomic_facts, o2_id_atomic_facts, train_inferred, test_inferred_iid, test_inferred_iid_o2_error, test_inferred_iid_o1_error, test_inferred_ood, test_io, test_oi, nonsenses = build_dataset(NUM_ENTITY_IN, NUM_RELATION, split_train_inferred=True)\n",
    "\n",
    "test_size = 3000\n",
    "id_atomic_facts_ds = choose(id_atomic_facts, test_size)\n",
    "ood_atomic_facts_ds = choose(ood_atomic_facts, test_size)\n",
    "test_inferred_iid_ds = choose(test_inferred_iid, test_size)\n",
    "test_inferred_iid_controlled_ds = choose(test_inferred_iid_o2_error, test_size // 2) + choose(test_inferred_iid_o1_error, test_size // 2)\n",
    "test_inferred_ood_ds = choose(test_inferred_ood, test_size)\n",
    "test_io_ds = choose(test_io, test_size)\n",
    "test_oi_ds = choose(test_oi, test_size)\n",
    "nonsense_ds = choose(nonsenses, test_size)\n",
    "\n",
    "all_atomics = id_atomic_facts + ood_atomic_facts\n",
    "len(all_atomics)"
   ]
  },
  {
   "cell_type": "code",
   "execution_count": 43,
   "metadata": {},
   "outputs": [],
   "source": [
    "# downsampling train_inferred\n",
    "# for phi in [18.0,12.6,9.0,7.2,5.4,3.6]:\n",
    "dataset_name = \"composition.{}.{}.{}-controlled\".format(NUM_ENTITY_IN, NUM_RELATION, \"inf\")\n",
    "os.makedirs(\"data/{}\".format(dataset_name), exist_ok=True)\n",
    "train_inferred_ds = choose(train_inferred, 382000)\n",
    "\n",
    "probes = []\n",
    "for item in id_atomic_facts_ds:\n",
    "    probes.append(deepcopy(item))\n",
    "    probes[-1][\"type\"] = \"id_atomic\"\n",
    "\n",
    "for item in ood_atomic_facts_ds:\n",
    "    probes.append(deepcopy(item))\n",
    "    probes[-1][\"type\"] = \"ood_atomic\"\n",
    "\n",
    "for item in choose(train_inferred_ds, test_size):\n",
    "    probes.append(deepcopy(item))\n",
    "    probes[-1]['type'] = 'train_inferred'\n",
    "\n",
    "for item in test_inferred_iid_ds:\n",
    "    probes.append(deepcopy(item))\n",
    "    probes[-1]['type'] = 'test_inferred_iid'\n",
    "\n",
    "for item in test_inferred_iid_controlled_ds:\n",
    "    probes.append(deepcopy(item))\n",
    "    probes[-1]['type'] = 'test_inferred_iid_controlled'\n",
    "\n",
    "for item in test_inferred_ood_ds:\n",
    "    probes.append(deepcopy(item))\n",
    "    probes[-1][\"type\"] = \"test_inferred_ood\"\n",
    "    \n",
    "for item in test_io_ds:\n",
    "    probes.append(deepcopy(item))\n",
    "    probes[-1][\"type\"] = \"test_IO\"\n",
    "\n",
    "for item in test_oi_ds:\n",
    "    probes.append(deepcopy(item))\n",
    "    probes[-1][\"type\"] = \"test_OI\"\n",
    "    \n",
    "for item in nonsense_ds:\n",
    "    probes.append(deepcopy(item))\n",
    "    probes[-1][\"type\"] = \"test_nonsenses\"\n",
    "\n",
    "with open(\"data/{}/train.json\".format(dataset_name), \"w\", encoding='utf-8') as f:\n",
    "    json.dump(train_inferred_ds, f)\n",
    "with open(\"data/{}/valid.json\".format(dataset_name), \"w\", encoding='utf-8') as f:\n",
    "    json.dump(test_inferred_ood_ds, f)\n",
    "with open(\"data/{}/test.json\".format(dataset_name), \"w\", encoding='utf-8') as f:\n",
    "    json.dump(probes, f)\n",
    "with open(\"data/{}/o1_id_atomic_facts.json\".format(dataset_name), \"w\", encoding='utf-8') as f:\n",
    "    json.dump(o1_id_atomic_facts, f)\n",
    "with open(\"data/{}/o2_id_atomic_facts.json\".format(dataset_name), \"w\", encoding='utf-8') as f:\n",
    "    json.dump(o2_id_atomic_facts, f)\n",
    "# add vocab\n",
    "with open(\"data/{}/vocab.json\".format(dataset_name), \"w\", encoding='utf-8') as f:\n",
    "    json.dump(vocab, f)\n",
    "    "
   ]
  },
  {
   "cell_type": "code",
   "execution_count": null,
   "metadata": {},
   "outputs": [
    {
     "ename": "NameError",
     "evalue": "name 'train_items' is not defined",
     "output_type": "error",
     "traceback": [
      "\u001b[0;31m---------------------------------------------------------------------------\u001b[0m",
      "\u001b[0;31mNameError\u001b[0m                                 Traceback (most recent call last)",
      "Input \u001b[0;32mIn [3]\u001b[0m, in \u001b[0;36m<cell line: 6>\u001b[0;34m()\u001b[0m\n\u001b[1;32m      4\u001b[0m atomic_num \u001b[38;5;241m=\u001b[39m \u001b[38;5;241m0\u001b[39m\n\u001b[1;32m      5\u001b[0m inferred_num \u001b[38;5;241m=\u001b[39m \u001b[38;5;241m0\u001b[39m\n\u001b[0;32m----> 6\u001b[0m \u001b[38;5;28;01mfor\u001b[39;00m item \u001b[38;5;129;01min\u001b[39;00m tqdm(\u001b[43mtrain_items\u001b[49m):\n\u001b[1;32m      7\u001b[0m     temp \u001b[38;5;241m=\u001b[39m item[\u001b[38;5;124m'\u001b[39m\u001b[38;5;124mtarget_text\u001b[39m\u001b[38;5;124m'\u001b[39m]\u001b[38;5;241m.\u001b[39mstrip(\u001b[38;5;124m\"\u001b[39m\u001b[38;5;124m><\u001b[39m\u001b[38;5;124m\"\u001b[39m)\u001b[38;5;241m.\u001b[39msplit(\u001b[38;5;124m\"\u001b[39m\u001b[38;5;124m><\u001b[39m\u001b[38;5;124m\"\u001b[39m)\n\u001b[1;32m      8\u001b[0m     \u001b[38;5;28;01mif\u001b[39;00m \u001b[38;5;28mlen\u001b[39m(temp) \u001b[38;5;241m==\u001b[39m \u001b[38;5;241m4\u001b[39m:\n",
      "\u001b[0;31mNameError\u001b[0m: name 'train_items' is not defined"
     ]
    }
   ],
   "source": [
    "with open(\"/home/jinho/repos/GrokkedTransformer/data/composition.2000.200.inf-controlled/train.json\") as f:\n",
    "    train_data = json.load(f)\n",
    "    \n",
    "atomic_num = 0\n",
    "inferred_num = 0\n",
    "for item in tqdm(train_data):\n",
    "    temp = item['target_text'].strip(\"><\").split(\"><\")\n",
    "    if len(temp) == 4:\n",
    "        print(temp)\n",
    "    else:\n",
    "        inferred_num += 1\n",
    "        \n",
    "print(atomic_num)\n",
    "print(inferred_num)\n"
   ]
  }
 ],
 "metadata": {
  "kernelspec": {
   "display_name": "grokked_transformer",
   "language": "python",
   "name": "python3"
  },
  "language_info": {
   "codemirror_mode": {
    "name": "ipython",
    "version": 3
   },
   "file_extension": ".py",
   "mimetype": "text/x-python",
   "name": "python",
   "nbconvert_exporter": "python",
   "pygments_lexer": "ipython3",
   "version": "3.10.4"
  }
 },
 "nbformat": 4,
 "nbformat_minor": 2
}
