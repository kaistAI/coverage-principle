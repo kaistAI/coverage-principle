{
 "cells": [
  {
   "cell_type": "code",
   "execution_count": 1,
   "metadata": {},
   "outputs": [],
   "source": [
    "def compare_dicts(dict1, dict2):\n",
    "    # 1. 동일한 key를 가지고 있는지 확인\n",
    "    keys1 = set(dict1.keys())\n",
    "    keys2 = set(dict2.keys())\n",
    "\n",
    "    if keys1 != keys2:\n",
    "        print(\"두 딕셔너리는 동일한 키를 가지고 있지 않습니다.\")\n",
    "        return False\n",
    "\n",
    "    # 2. 동일한 key에 대해 리스트의 요소가 전부 동일한지 확인\n",
    "    for key in keys1:\n",
    "        if isinstance(dict1[key], list) and isinstance(dict2[key], list):\n",
    "            target_texts1 = [item[\"target_text\"] for item in dict1[key]]\n",
    "            target_texts2 = [item[\"target_text\"] for item in dict2[key]]\n",
    "            if target_texts1 != target_texts2:\n",
    "                print(f\"키 '{key}' 내의 'target_text' 값이 다릅니다.\")\n",
    "                return False\n",
    "        # if isinstance(dict1[key], list) and isinstance(dict2[key], list):\n",
    "        #     if dict1[key] != dict2[key]:\n",
    "        #         print(f\"키 '{key}'의 리스트 요소가 다릅니다.\")\n",
    "        #         return False\n",
    "\n",
    "    return True"
   ]
  },
  {
   "cell_type": "code",
   "execution_count": 2,
   "metadata": {},
   "outputs": [
    {
     "name": "stdout",
     "output_type": "stream",
     "text": [
      "Current : 2250 & id_train_dedup.json\n",
      "Current : 2250 & id_test_dedup.json\n",
      "Current : 2250 & ood_dedup.json\n",
      "Current : 80000 & id_train_dedup.json\n",
      "Current : 80000 & id_test_dedup.json\n",
      "Current : 80000 & ood_dedup.json\n",
      "Current : 190000 & id_train_dedup.json\n",
      "Current : 190000 & id_test_dedup.json\n",
      "Current : 190000 & ood_dedup.json\n"
     ]
    }
   ],
   "source": [
    "import os, json\n",
    "\n",
    "base_dir = \"/mnt/nas/jinho/GrokkedTransformer/collapse_analysis/3-hop/residual/threehop.70.diff-f123.inf/f3\"\n",
    "\n",
    "for step in [2250, 80000, 190000]:\n",
    "    for file_name in [\"id_train_dedup.json\", \"id_test_dedup.json\", \"ood_dedup.json\"]:\n",
    "        print(f\"Current : {step} & {file_name}\")\n",
    "        with open(os.path.join(base_dir, \"(8,3)_nonvector\", str(step), file_name)) as f:\n",
    "            nonvector_dict = json.load(f)\n",
    "        with open(os.path.join(base_dir, \"(8,3)_original\", str(step), file_name)) as f:\n",
    "            original_dict = json.load(f)\n",
    "\n",
    "        assert compare_dicts(nonvector_dict, original_dict)\n",
    "        "
   ]
  }
 ],
 "metadata": {
  "kernelspec": {
   "display_name": "Python 3",
   "language": "python",
   "name": "python3"
  },
  "language_info": {
   "codemirror_mode": {
    "name": "ipython",
    "version": 3
   },
   "file_extension": ".py",
   "mimetype": "text/x-python",
   "name": "python",
   "nbconvert_exporter": "python",
   "pygments_lexer": "ipython3",
   "version": "3.10.4"
  }
 },
 "nbformat": 4,
 "nbformat_minor": 2
}
