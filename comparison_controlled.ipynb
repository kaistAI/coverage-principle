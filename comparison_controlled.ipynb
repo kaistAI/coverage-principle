{
 "cells": [
  {
   "cell_type": "code",
   "execution_count": 59,
   "metadata": {},
   "outputs": [],
   "source": [
    "import json\n",
    "import numpy as np\n",
    "import random\n",
    "from tqdm.auto import tqdm\n",
    "import itertools\n",
    "import os\n",
    "from copy import deepcopy"
   ]
  },
  {
   "cell_type": "code",
   "execution_count": 60,
   "metadata": {},
   "outputs": [],
   "source": [
    "def compare(a,b):\n",
    "    a = int(a.strip(\"<>\"))\n",
    "    b = int(b.strip(\"<>\"))\n",
    "    if a<b:\n",
    "        return 0\n",
    "    if a==b:\n",
    "        return 1\n",
    "    if a>b:\n",
    "        return 2\n",
    "    assert False\n",
    "    \n",
    "def build_dicts(entities):\n",
    "    entity2ind = dict()\n",
    "    ind2entity = []\n",
    "    for i in range(len(entities)):\n",
    "        entity = entities[i]\n",
    "        if not (entity in ind2entity):\n",
    "            ind2entity.append(entity)\n",
    "            entity2ind[entity] = len(ind2entity) - 1\n",
    "    return ind2entity, entity2ind"
   ]
  },
  {
   "cell_type": "code",
   "execution_count": 61,
   "metadata": {},
   "outputs": [
    {
     "name": "stdout",
     "output_type": "stream",
     "text": [
      "unseen_value: <20>\n",
      "all_value_pairs: 210 : [('<0>', '<0>'), ('<0>', '<1>'), ('<0>', '<2>'), ('<0>', '<3>'), ('<0>', '<4>'), ('<0>', '<5>'), ('<0>', '<6>'), ('<0>', '<7>'), ('<0>', '<8>'), ('<0>', '<9>'), ('<0>', '<10>'), ('<0>', '<11>'), ('<0>', '<12>'), ('<0>', '<13>'), ('<0>', '<14>'), ('<0>', '<15>'), ('<0>', '<16>'), ('<0>', '<17>'), ('<0>', '<18>'), ('<0>', '<19>'), ('<1>', '<1>'), ('<1>', '<2>'), ('<1>', '<3>'), ('<1>', '<4>'), ('<1>', '<5>'), ('<1>', '<6>'), ('<1>', '<7>'), ('<1>', '<8>'), ('<1>', '<9>'), ('<1>', '<10>'), ('<1>', '<11>'), ('<1>', '<12>'), ('<1>', '<13>'), ('<1>', '<14>'), ('<1>', '<15>'), ('<1>', '<16>'), ('<1>', '<17>'), ('<1>', '<18>'), ('<1>', '<19>'), ('<2>', '<2>'), ('<2>', '<3>'), ('<2>', '<4>'), ('<2>', '<5>'), ('<2>', '<6>'), ('<2>', '<7>'), ('<2>', '<8>'), ('<2>', '<9>'), ('<2>', '<10>'), ('<2>', '<11>'), ('<2>', '<12>'), ('<2>', '<13>'), ('<2>', '<14>'), ('<2>', '<15>'), ('<2>', '<16>'), ('<2>', '<17>'), ('<2>', '<18>'), ('<2>', '<19>'), ('<3>', '<3>'), ('<3>', '<4>'), ('<3>', '<5>'), ('<3>', '<6>'), ('<3>', '<7>'), ('<3>', '<8>'), ('<3>', '<9>'), ('<3>', '<10>'), ('<3>', '<11>'), ('<3>', '<12>'), ('<3>', '<13>'), ('<3>', '<14>'), ('<3>', '<15>'), ('<3>', '<16>'), ('<3>', '<17>'), ('<3>', '<18>'), ('<3>', '<19>'), ('<4>', '<4>'), ('<4>', '<5>'), ('<4>', '<6>'), ('<4>', '<7>'), ('<4>', '<8>'), ('<4>', '<9>'), ('<4>', '<10>'), ('<4>', '<11>'), ('<4>', '<12>'), ('<4>', '<13>'), ('<4>', '<14>'), ('<4>', '<15>'), ('<4>', '<16>'), ('<4>', '<17>'), ('<4>', '<18>'), ('<4>', '<19>'), ('<5>', '<5>'), ('<5>', '<6>'), ('<5>', '<7>'), ('<5>', '<8>'), ('<5>', '<9>'), ('<5>', '<10>'), ('<5>', '<11>'), ('<5>', '<12>'), ('<5>', '<13>'), ('<5>', '<14>'), ('<5>', '<15>'), ('<5>', '<16>'), ('<5>', '<17>'), ('<5>', '<18>'), ('<5>', '<19>'), ('<6>', '<6>'), ('<6>', '<7>'), ('<6>', '<8>'), ('<6>', '<9>'), ('<6>', '<10>'), ('<6>', '<11>'), ('<6>', '<12>'), ('<6>', '<13>'), ('<6>', '<14>'), ('<6>', '<15>'), ('<6>', '<16>'), ('<6>', '<17>'), ('<6>', '<18>'), ('<6>', '<19>'), ('<7>', '<7>'), ('<7>', '<8>'), ('<7>', '<9>'), ('<7>', '<10>'), ('<7>', '<11>'), ('<7>', '<12>'), ('<7>', '<13>'), ('<7>', '<14>'), ('<7>', '<15>'), ('<7>', '<16>'), ('<7>', '<17>'), ('<7>', '<18>'), ('<7>', '<19>'), ('<8>', '<8>'), ('<8>', '<9>'), ('<8>', '<10>'), ('<8>', '<11>'), ('<8>', '<12>'), ('<8>', '<13>'), ('<8>', '<14>'), ('<8>', '<15>'), ('<8>', '<16>'), ('<8>', '<17>'), ('<8>', '<18>'), ('<8>', '<19>'), ('<9>', '<9>'), ('<9>', '<10>'), ('<9>', '<11>'), ('<9>', '<12>'), ('<9>', '<13>'), ('<9>', '<14>'), ('<9>', '<15>'), ('<9>', '<16>'), ('<9>', '<17>'), ('<9>', '<18>'), ('<9>', '<19>'), ('<10>', '<10>'), ('<10>', '<11>'), ('<10>', '<12>'), ('<10>', '<13>'), ('<10>', '<14>'), ('<10>', '<15>'), ('<10>', '<16>'), ('<10>', '<17>'), ('<10>', '<18>'), ('<10>', '<19>'), ('<11>', '<11>'), ('<11>', '<12>'), ('<11>', '<13>'), ('<11>', '<14>'), ('<11>', '<15>'), ('<11>', '<16>'), ('<11>', '<17>'), ('<11>', '<18>'), ('<11>', '<19>'), ('<12>', '<12>'), ('<12>', '<13>'), ('<12>', '<14>'), ('<12>', '<15>'), ('<12>', '<16>'), ('<12>', '<17>'), ('<12>', '<18>'), ('<12>', '<19>'), ('<13>', '<13>'), ('<13>', '<14>'), ('<13>', '<15>'), ('<13>', '<16>'), ('<13>', '<17>'), ('<13>', '<18>'), ('<13>', '<19>'), ('<14>', '<14>'), ('<14>', '<15>'), ('<14>', '<16>'), ('<14>', '<17>'), ('<14>', '<18>'), ('<14>', '<19>'), ('<15>', '<15>'), ('<15>', '<16>'), ('<15>', '<17>'), ('<15>', '<18>'), ('<15>', '<19>'), ('<16>', '<16>'), ('<16>', '<17>'), ('<16>', '<18>'), ('<16>', '<19>'), ('<17>', '<17>'), ('<17>', '<18>'), ('<17>', '<19>'), ('<18>', '<18>'), ('<18>', '<19>'), ('<19>', '<19>')]\n",
      "unseen_value_pairs: 21 : [('<5>', '<13>'), ('<14>', '<19>'), ('<6>', '<8>'), ('<0>', '<10>'), ('<3>', '<12>'), ('<7>', '<18>'), ('<7>', '<12>'), ('<5>', '<18>'), ('<16>', '<16>'), ('<4>', '<7>'), ('<7>', '<10>'), ('<5>', '<6>'), ('<9>', '<14>'), ('<2>', '<18>'), ('<7>', '<17>'), ('<1>', '<16>'), ('<3>', '<18>'), ('<14>', '<18>'), ('<1>', '<5>'), ('<10>', '<13>'), ('<17>', '<17>')]\n",
      "seen_value_pairs: 189 : [('<0>', '<0>'), ('<0>', '<1>'), ('<0>', '<2>'), ('<0>', '<3>'), ('<0>', '<4>'), ('<0>', '<5>'), ('<0>', '<6>'), ('<0>', '<7>'), ('<0>', '<8>'), ('<0>', '<9>'), ('<0>', '<11>'), ('<0>', '<12>'), ('<0>', '<13>'), ('<0>', '<14>'), ('<0>', '<15>'), ('<0>', '<16>'), ('<0>', '<17>'), ('<0>', '<18>'), ('<0>', '<19>'), ('<1>', '<1>'), ('<1>', '<2>'), ('<1>', '<3>'), ('<1>', '<4>'), ('<1>', '<6>'), ('<1>', '<7>'), ('<1>', '<8>'), ('<1>', '<9>'), ('<1>', '<10>'), ('<1>', '<11>'), ('<1>', '<12>'), ('<1>', '<13>'), ('<1>', '<14>'), ('<1>', '<15>'), ('<1>', '<17>'), ('<1>', '<18>'), ('<1>', '<19>'), ('<2>', '<2>'), ('<2>', '<3>'), ('<2>', '<4>'), ('<2>', '<5>'), ('<2>', '<6>'), ('<2>', '<7>'), ('<2>', '<8>'), ('<2>', '<9>'), ('<2>', '<10>'), ('<2>', '<11>'), ('<2>', '<12>'), ('<2>', '<13>'), ('<2>', '<14>'), ('<2>', '<15>'), ('<2>', '<16>'), ('<2>', '<17>'), ('<2>', '<19>'), ('<3>', '<3>'), ('<3>', '<4>'), ('<3>', '<5>'), ('<3>', '<6>'), ('<3>', '<7>'), ('<3>', '<8>'), ('<3>', '<9>'), ('<3>', '<10>'), ('<3>', '<11>'), ('<3>', '<13>'), ('<3>', '<14>'), ('<3>', '<15>'), ('<3>', '<16>'), ('<3>', '<17>'), ('<3>', '<19>'), ('<4>', '<4>'), ('<4>', '<5>'), ('<4>', '<6>'), ('<4>', '<8>'), ('<4>', '<9>'), ('<4>', '<10>'), ('<4>', '<11>'), ('<4>', '<12>'), ('<4>', '<13>'), ('<4>', '<14>'), ('<4>', '<15>'), ('<4>', '<16>'), ('<4>', '<17>'), ('<4>', '<18>'), ('<4>', '<19>'), ('<5>', '<5>'), ('<5>', '<7>'), ('<5>', '<8>'), ('<5>', '<9>'), ('<5>', '<10>'), ('<5>', '<11>'), ('<5>', '<12>'), ('<5>', '<14>'), ('<5>', '<15>'), ('<5>', '<16>'), ('<5>', '<17>'), ('<5>', '<19>'), ('<6>', '<6>'), ('<6>', '<7>'), ('<6>', '<9>'), ('<6>', '<10>'), ('<6>', '<11>'), ('<6>', '<12>'), ('<6>', '<13>'), ('<6>', '<14>'), ('<6>', '<15>'), ('<6>', '<16>'), ('<6>', '<17>'), ('<6>', '<18>'), ('<6>', '<19>'), ('<7>', '<7>'), ('<7>', '<8>'), ('<7>', '<9>'), ('<7>', '<11>'), ('<7>', '<13>'), ('<7>', '<14>'), ('<7>', '<15>'), ('<7>', '<16>'), ('<7>', '<19>'), ('<8>', '<8>'), ('<8>', '<9>'), ('<8>', '<10>'), ('<8>', '<11>'), ('<8>', '<12>'), ('<8>', '<13>'), ('<8>', '<14>'), ('<8>', '<15>'), ('<8>', '<16>'), ('<8>', '<17>'), ('<8>', '<18>'), ('<8>', '<19>'), ('<9>', '<9>'), ('<9>', '<10>'), ('<9>', '<11>'), ('<9>', '<12>'), ('<9>', '<13>'), ('<9>', '<15>'), ('<9>', '<16>'), ('<9>', '<17>'), ('<9>', '<18>'), ('<9>', '<19>'), ('<10>', '<10>'), ('<10>', '<11>'), ('<10>', '<12>'), ('<10>', '<14>'), ('<10>', '<15>'), ('<10>', '<16>'), ('<10>', '<17>'), ('<10>', '<18>'), ('<10>', '<19>'), ('<11>', '<11>'), ('<11>', '<12>'), ('<11>', '<13>'), ('<11>', '<14>'), ('<11>', '<15>'), ('<11>', '<16>'), ('<11>', '<17>'), ('<11>', '<18>'), ('<11>', '<19>'), ('<12>', '<12>'), ('<12>', '<13>'), ('<12>', '<14>'), ('<12>', '<15>'), ('<12>', '<16>'), ('<12>', '<17>'), ('<12>', '<18>'), ('<12>', '<19>'), ('<13>', '<13>'), ('<13>', '<14>'), ('<13>', '<15>'), ('<13>', '<16>'), ('<13>', '<17>'), ('<13>', '<18>'), ('<13>', '<19>'), ('<14>', '<14>'), ('<14>', '<15>'), ('<14>', '<16>'), ('<14>', '<17>'), ('<15>', '<15>'), ('<15>', '<16>'), ('<15>', '<17>'), ('<15>', '<18>'), ('<15>', '<19>'), ('<16>', '<17>'), ('<16>', '<18>'), ('<16>', '<19>'), ('<17>', '<18>'), ('<17>', '<19>'), ('<18>', '<18>'), ('<18>', '<19>'), ('<19>', '<19>')]\n",
      "unflip_value_pairs: 18 : [('<16>', '<0>'), ('<0>', '<17>'), ('<0>', '<18>'), ('<3>', '<2>'), ('<2>', '<12>'), ('<4>', '<9>'), ('<4>', '<11>'), ('<4>', '<17>'), ('<5>', '<11>'), ('<17>', '<5>'), ('<16>', '<6>'), ('<18>', '<6>'), ('<17>', '<9>'), ('<14>', '<16>'), ('<16>', '<18>'), ('<1>', '<0>'), ('<3>', '<0>'), ('<9>', '<0>')]\n",
      "[ 58 663 524 419 999 493  62 460 419 554 827 757 475 675 825 980 562 810\n",
      " 175 348]\n"
     ]
    }
   ],
   "source": [
    "vocab = []\n",
    "\n",
    "num_entities = 1000\n",
    "entities = [\"<e_{}>\".format(i) for i in range(num_entities)]\n",
    "vocab = vocab + entities\n",
    "ind2entity, entity2ind = build_dicts(entities)\n",
    "\n",
    "num_attributes = 20\n",
    "attributes = [\"<attr_{}>\".format(i) for i in range(num_attributes)]\n",
    "vocab = vocab + attributes\n",
    "ind2attribute, attribute2ind = build_dicts(attributes)\n",
    "\n",
    "num_vals_per_attr = 21  # values range from [0, num_vals_per_attr-1]\n",
    "values = [\"<{}>\".format(i) for i in range(num_vals_per_attr)]\n",
    "\n",
    "vocab = vocab + values\n",
    "\n",
    "# make controlled value\n",
    "random.seed(0)\n",
    "np.random.seed(0)\n",
    "\n",
    "unseen_value = values.pop(-1)\n",
    "print(f\"unseen_value: {unseen_value}\")\n",
    "\n",
    "all_value_pairs = list(itertools.combinations_with_replacement(values, 2))\n",
    "print(f\"all_value_pairs: {len(all_value_pairs)} : {all_value_pairs}\")\n",
    "unseen_value_pairs = random.sample(all_value_pairs, k=int(0.1*len(all_value_pairs)))\n",
    "print(f\"unseen_value_pairs: {len(unseen_value_pairs)} : {unseen_value_pairs}\")\n",
    "seen_value_pairs = [pair for pair in all_value_pairs if pair not in unseen_value_pairs]\n",
    "print(f\"seen_value_pairs: {len(seen_value_pairs)} : {seen_value_pairs}\")\n",
    "unflip_value_pairs = []\n",
    "i = 0\n",
    "while len(unflip_value_pairs) < int(0.1*len(seen_value_pairs)):\n",
    "    if i == len(seen_value_pairs):\n",
    "        i = 0\n",
    "    if seen_value_pairs[i][0] == seen_value_pairs[i][1]:\n",
    "        i += 1\n",
    "        continue\n",
    "    if np.random.uniform() < 0.1:\n",
    "        unflip_value_pairs.append(seen_value_pairs[i])\n",
    "    i += 1\n",
    "for i in range(len(unflip_value_pairs)):\n",
    "    if np.random.uniform() < 0.5:\n",
    "        unflip_value_pairs[i] = (unflip_value_pairs[i][1], unflip_value_pairs[i][0])\n",
    "print(f\"unflip_value_pairs: {len(unflip_value_pairs)} : {unflip_value_pairs}\")\n",
    "\n",
    "# randomly assign values\n",
    "atomic_KB = np.random.randint(low=0, high=num_vals_per_attr-1, size=(num_entities, num_attributes))     #  [entity id, attribute id] -> value\n",
    "# change some value to unseen_value to make ood case\n",
    "change_ent_indices = np.random.randint(low=0, high=atomic_KB.shape[0], size=atomic_KB.shape[1])\n",
    "print(change_ent_indices)\n",
    "atomic_KB[change_ent_indices, np.arange(atomic_KB.shape[1])] = num_vals_per_attr-1"
   ]
  },
  {
   "cell_type": "code",
   "execution_count": 62,
   "metadata": {},
   "outputs": [
    {
     "name": "stdout",
     "output_type": "stream",
     "text": [
      "4 7\n",
      "4 7\n",
      "3 12\n",
      "2 18\n"
     ]
    }
   ],
   "source": [
    "print(atomic_KB[1,0], atomic_KB[25,0])\n",
    "print(atomic_KB[1,0], atomic_KB[27,0])\n",
    "print(atomic_KB[256,13], atomic_KB[41,13])\n",
    "print(atomic_KB[3,0], atomic_KB[65,0])"
   ]
  },
  {
   "cell_type": "code",
   "execution_count": 63,
   "metadata": {},
   "outputs": [],
   "source": [
    "def rand_flip(tup):\n",
    "    tup_l = list(tup)\n",
    "    random.shuffle(tup_l)\n",
    "    return tuple(tup_l)\n",
    "    \n",
    "def choose(arr, ratio_or_count):\n",
    "    if type(ratio_or_count) == float:\n",
    "        num = round(ratio_or_count*len(arr))\n",
    "    elif type(ratio_or_count) == int:\n",
    "        num = ratio_or_count\n",
    "    else:\n",
    "         assert False\n",
    "    if num >= len(arr):\n",
    "        return arr\n",
    "    rand_inds = np.random.choice(len(arr), num, replace=False).tolist()\n",
    "    return [arr[i] for i in rand_inds]\n",
    "    \n",
    "def split(arr, ratio):\n",
    "    train, test = [], []\n",
    "    rand_inds = np.random.choice(len(arr), round(ratio*len(arr)), replace=False).tolist()\n",
    "    for i in range(len(arr)):\n",
    "        if i in rand_inds:\n",
    "            train.append(arr[i])\n",
    "        else:\n",
    "            test.append(arr[i])\n",
    "    return [train, test]"
   ]
  },
  {
   "cell_type": "code",
   "execution_count": 64,
   "metadata": {},
   "outputs": [
    {
     "name": "stdout",
     "output_type": "stream",
     "text": [
      "['<e_0>', '<e_1>', '<e_2>', '<e_3>', '<e_4>', '<e_5>', '<e_6>', '<e_7>', '<e_8>', '<e_9>', '<e_10>', '<e_11>', '<e_12>', '<e_13>', '<e_14>', '<e_15>', '<e_16>', '<e_17>', '<e_18>', '<e_19>', '<e_20>', '<e_21>', '<e_22>', '<e_23>', '<e_24>', '<e_25>', '<e_26>', '<e_27>', '<e_28>', '<e_29>', '<e_30>', '<e_31>', '<e_32>', '<e_33>', '<e_34>', '<e_35>', '<e_36>', '<e_37>', '<e_38>', '<e_39>', '<e_40>', '<e_41>', '<e_42>', '<e_43>', '<e_44>', '<e_45>', '<e_46>', '<e_47>', '<e_48>', '<e_49>', '<e_50>', '<e_51>', '<e_52>', '<e_53>', '<e_54>', '<e_55>', '<e_56>', '<e_57>', '<e_58>', '<e_59>', '<e_60>', '<e_61>', '<e_62>', '<e_63>', '<e_64>', '<e_65>', '<e_66>', '<e_67>', '<e_68>', '<e_69>', '<e_70>', '<e_71>', '<e_72>', '<e_73>', '<e_74>', '<e_75>', '<e_76>', '<e_77>', '<e_78>', '<e_79>', '<e_80>', '<e_81>', '<e_82>', '<e_83>', '<e_84>', '<e_85>', '<e_86>', '<e_87>', '<e_88>', '<e_89>', '<e_90>', '<e_91>', '<e_92>', '<e_93>', '<e_94>', '<e_95>', '<e_96>', '<e_97>', '<e_98>', '<e_99>', '<e_100>', '<e_101>', '<e_102>', '<e_103>', '<e_104>', '<e_105>', '<e_106>', '<e_107>', '<e_108>', '<e_109>', '<e_110>', '<e_111>', '<e_112>', '<e_113>', '<e_114>', '<e_115>', '<e_116>', '<e_117>', '<e_118>', '<e_119>', '<e_120>', '<e_121>', '<e_122>', '<e_123>', '<e_124>', '<e_125>', '<e_126>', '<e_127>', '<e_128>', '<e_129>', '<e_130>', '<e_131>', '<e_132>', '<e_133>', '<e_134>', '<e_135>', '<e_136>', '<e_137>', '<e_138>', '<e_139>', '<e_140>', '<e_141>', '<e_142>', '<e_143>', '<e_144>', '<e_145>', '<e_146>', '<e_147>', '<e_148>', '<e_149>', '<e_150>', '<e_151>', '<e_152>', '<e_153>', '<e_154>', '<e_155>', '<e_156>', '<e_157>', '<e_158>', '<e_159>', '<e_160>', '<e_161>', '<e_162>', '<e_163>', '<e_164>', '<e_165>', '<e_166>', '<e_167>', '<e_168>', '<e_169>', '<e_170>', '<e_171>', '<e_172>', '<e_173>', '<e_174>', '<e_175>', '<e_176>', '<e_177>', '<e_178>', '<e_179>', '<e_180>', '<e_181>', '<e_182>', '<e_183>', '<e_184>', '<e_185>', '<e_186>', '<e_187>', '<e_188>', '<e_189>', '<e_190>', '<e_191>', '<e_192>', '<e_193>', '<e_194>', '<e_195>', '<e_196>', '<e_197>', '<e_198>', '<e_199>', '<e_200>', '<e_201>', '<e_202>', '<e_203>', '<e_204>', '<e_205>', '<e_206>', '<e_207>', '<e_208>', '<e_209>', '<e_210>', '<e_211>', '<e_212>', '<e_213>', '<e_214>', '<e_215>', '<e_216>', '<e_217>', '<e_218>', '<e_219>', '<e_220>', '<e_221>', '<e_222>', '<e_223>', '<e_224>', '<e_225>', '<e_226>', '<e_227>', '<e_228>', '<e_229>', '<e_230>', '<e_231>', '<e_232>', '<e_233>', '<e_234>', '<e_235>', '<e_236>', '<e_237>', '<e_238>', '<e_239>', '<e_240>', '<e_241>', '<e_242>', '<e_243>', '<e_244>', '<e_245>', '<e_246>', '<e_247>', '<e_248>', '<e_249>', '<e_250>', '<e_251>', '<e_252>', '<e_253>', '<e_254>', '<e_255>', '<e_256>', '<e_257>', '<e_258>', '<e_259>', '<e_260>', '<e_261>', '<e_262>', '<e_263>', '<e_264>', '<e_265>', '<e_266>', '<e_267>', '<e_268>', '<e_269>', '<e_270>', '<e_271>', '<e_272>', '<e_273>', '<e_274>', '<e_275>', '<e_276>', '<e_277>', '<e_278>', '<e_279>', '<e_280>', '<e_281>', '<e_282>', '<e_283>', '<e_284>', '<e_285>', '<e_286>', '<e_287>', '<e_288>', '<e_289>', '<e_290>', '<e_291>', '<e_292>', '<e_293>', '<e_294>', '<e_295>', '<e_296>', '<e_297>', '<e_298>', '<e_299>', '<e_300>', '<e_301>', '<e_302>', '<e_303>', '<e_304>', '<e_305>', '<e_306>', '<e_307>', '<e_308>', '<e_309>', '<e_310>', '<e_311>', '<e_312>', '<e_313>', '<e_314>', '<e_315>', '<e_316>', '<e_317>', '<e_318>', '<e_319>', '<e_320>', '<e_321>', '<e_322>', '<e_323>', '<e_324>', '<e_325>', '<e_326>', '<e_327>', '<e_328>', '<e_329>', '<e_330>', '<e_331>', '<e_332>', '<e_333>', '<e_334>', '<e_335>', '<e_336>', '<e_337>', '<e_338>', '<e_339>', '<e_340>', '<e_341>', '<e_342>', '<e_343>', '<e_344>', '<e_345>', '<e_346>', '<e_347>', '<e_348>', '<e_349>', '<e_350>', '<e_351>', '<e_352>', '<e_353>', '<e_354>', '<e_355>', '<e_356>', '<e_357>', '<e_358>', '<e_359>', '<e_360>', '<e_361>', '<e_362>', '<e_363>', '<e_364>', '<e_365>', '<e_366>', '<e_367>', '<e_368>', '<e_369>', '<e_370>', '<e_371>', '<e_372>', '<e_373>', '<e_374>', '<e_375>', '<e_376>', '<e_377>', '<e_378>', '<e_379>', '<e_380>', '<e_381>', '<e_382>', '<e_383>', '<e_384>', '<e_385>', '<e_386>', '<e_387>', '<e_388>', '<e_389>', '<e_390>', '<e_391>', '<e_392>', '<e_393>', '<e_394>', '<e_395>', '<e_396>', '<e_397>', '<e_398>', '<e_399>', '<e_400>', '<e_401>', '<e_402>', '<e_403>', '<e_404>', '<e_405>', '<e_406>', '<e_407>', '<e_408>', '<e_409>', '<e_410>', '<e_411>', '<e_412>', '<e_413>', '<e_414>', '<e_415>', '<e_416>', '<e_417>', '<e_418>', '<e_419>', '<e_420>', '<e_421>', '<e_422>', '<e_423>', '<e_424>', '<e_425>', '<e_426>', '<e_427>', '<e_428>', '<e_429>', '<e_430>', '<e_431>', '<e_432>', '<e_433>', '<e_434>', '<e_435>', '<e_436>', '<e_437>', '<e_438>', '<e_439>', '<e_440>', '<e_441>', '<e_442>', '<e_443>', '<e_444>', '<e_445>', '<e_446>', '<e_447>', '<e_448>', '<e_449>', '<e_450>', '<e_451>', '<e_452>', '<e_453>', '<e_454>', '<e_455>', '<e_456>', '<e_457>', '<e_458>', '<e_459>', '<e_460>', '<e_461>', '<e_462>', '<e_463>', '<e_464>', '<e_465>', '<e_466>', '<e_467>', '<e_468>', '<e_469>', '<e_470>', '<e_471>', '<e_472>', '<e_473>', '<e_474>', '<e_475>', '<e_476>', '<e_477>', '<e_478>', '<e_479>', '<e_480>', '<e_481>', '<e_482>', '<e_483>', '<e_484>', '<e_485>', '<e_486>', '<e_487>', '<e_488>', '<e_489>', '<e_490>', '<e_491>', '<e_492>', '<e_493>', '<e_494>', '<e_495>', '<e_496>', '<e_497>', '<e_498>', '<e_499>', '<e_500>', '<e_501>', '<e_502>', '<e_503>', '<e_504>', '<e_505>', '<e_506>', '<e_507>', '<e_508>', '<e_509>', '<e_510>', '<e_511>', '<e_512>', '<e_513>', '<e_514>', '<e_515>', '<e_516>', '<e_517>', '<e_518>', '<e_519>', '<e_520>', '<e_521>', '<e_522>', '<e_523>', '<e_524>', '<e_525>', '<e_526>', '<e_527>', '<e_528>', '<e_529>', '<e_530>', '<e_531>', '<e_532>', '<e_533>', '<e_534>', '<e_535>', '<e_536>', '<e_537>', '<e_538>', '<e_539>', '<e_540>', '<e_541>', '<e_542>', '<e_543>', '<e_544>', '<e_545>', '<e_546>', '<e_547>', '<e_548>', '<e_549>', '<e_550>', '<e_551>', '<e_552>', '<e_553>', '<e_554>', '<e_555>', '<e_556>', '<e_557>', '<e_558>', '<e_559>', '<e_560>', '<e_561>', '<e_562>', '<e_563>', '<e_564>', '<e_565>', '<e_566>', '<e_567>', '<e_568>', '<e_569>', '<e_570>', '<e_571>', '<e_572>', '<e_573>', '<e_574>', '<e_575>', '<e_576>', '<e_577>', '<e_578>', '<e_579>', '<e_580>', '<e_581>', '<e_582>', '<e_583>', '<e_584>', '<e_585>', '<e_586>', '<e_587>', '<e_588>', '<e_589>', '<e_590>', '<e_591>', '<e_592>', '<e_593>', '<e_594>', '<e_595>', '<e_596>', '<e_597>', '<e_598>', '<e_599>', '<e_600>', '<e_601>', '<e_602>', '<e_603>', '<e_604>', '<e_605>', '<e_606>', '<e_607>', '<e_608>', '<e_609>', '<e_610>', '<e_611>', '<e_612>', '<e_613>', '<e_614>', '<e_615>', '<e_616>', '<e_617>', '<e_618>', '<e_619>', '<e_620>', '<e_621>', '<e_622>', '<e_623>', '<e_624>', '<e_625>', '<e_626>', '<e_627>', '<e_628>', '<e_629>', '<e_630>', '<e_631>', '<e_632>', '<e_633>', '<e_634>', '<e_635>', '<e_636>', '<e_637>', '<e_638>', '<e_639>', '<e_640>', '<e_641>', '<e_642>', '<e_643>', '<e_644>', '<e_645>', '<e_646>', '<e_647>', '<e_648>', '<e_649>', '<e_650>', '<e_651>', '<e_652>', '<e_653>', '<e_654>', '<e_655>', '<e_656>', '<e_657>', '<e_658>', '<e_659>', '<e_660>', '<e_661>', '<e_662>', '<e_663>', '<e_664>', '<e_665>', '<e_666>', '<e_667>', '<e_668>', '<e_669>', '<e_670>', '<e_671>', '<e_672>', '<e_673>', '<e_674>', '<e_675>', '<e_676>', '<e_677>', '<e_678>', '<e_679>', '<e_680>', '<e_681>', '<e_682>', '<e_683>', '<e_684>', '<e_685>', '<e_686>', '<e_687>', '<e_688>', '<e_689>', '<e_690>', '<e_691>', '<e_692>', '<e_693>', '<e_694>', '<e_695>', '<e_696>', '<e_697>', '<e_698>', '<e_699>', '<e_700>', '<e_701>', '<e_702>', '<e_703>', '<e_704>', '<e_705>', '<e_706>', '<e_707>', '<e_708>', '<e_709>', '<e_710>', '<e_711>', '<e_712>', '<e_713>', '<e_714>', '<e_715>', '<e_716>', '<e_717>', '<e_718>', '<e_719>', '<e_720>', '<e_721>', '<e_722>', '<e_723>', '<e_724>', '<e_725>', '<e_726>', '<e_727>', '<e_728>', '<e_729>', '<e_730>', '<e_731>', '<e_732>', '<e_733>', '<e_734>', '<e_735>', '<e_736>', '<e_737>', '<e_738>', '<e_739>', '<e_740>', '<e_741>', '<e_742>', '<e_743>', '<e_744>', '<e_745>', '<e_746>', '<e_747>', '<e_748>', '<e_749>', '<e_750>', '<e_751>', '<e_752>', '<e_753>', '<e_754>', '<e_755>', '<e_756>', '<e_757>', '<e_758>', '<e_759>', '<e_760>', '<e_761>', '<e_762>', '<e_763>', '<e_764>', '<e_765>', '<e_766>', '<e_767>', '<e_768>', '<e_769>', '<e_770>', '<e_771>', '<e_772>', '<e_773>', '<e_774>', '<e_775>', '<e_776>', '<e_777>', '<e_778>', '<e_779>', '<e_780>', '<e_781>', '<e_782>', '<e_783>', '<e_784>', '<e_785>', '<e_786>', '<e_787>', '<e_788>', '<e_789>', '<e_790>', '<e_791>', '<e_792>', '<e_793>', '<e_794>', '<e_795>', '<e_796>', '<e_797>', '<e_798>', '<e_799>', '<e_800>', '<e_801>', '<e_802>', '<e_803>', '<e_804>', '<e_805>', '<e_806>', '<e_807>', '<e_808>', '<e_809>', '<e_810>', '<e_811>', '<e_812>', '<e_813>', '<e_814>', '<e_815>', '<e_816>', '<e_817>', '<e_818>', '<e_819>', '<e_820>', '<e_821>', '<e_822>', '<e_823>', '<e_824>', '<e_825>', '<e_826>', '<e_827>', '<e_828>', '<e_829>', '<e_830>', '<e_831>', '<e_832>', '<e_833>', '<e_834>', '<e_835>', '<e_836>', '<e_837>', '<e_838>', '<e_839>', '<e_840>', '<e_841>', '<e_842>', '<e_843>', '<e_844>', '<e_845>', '<e_846>', '<e_847>', '<e_848>', '<e_849>', '<e_850>', '<e_851>', '<e_852>', '<e_853>', '<e_854>', '<e_855>', '<e_856>', '<e_857>', '<e_858>', '<e_859>', '<e_860>', '<e_861>', '<e_862>', '<e_863>', '<e_864>', '<e_865>', '<e_866>', '<e_867>', '<e_868>', '<e_869>', '<e_870>', '<e_871>', '<e_872>', '<e_873>', '<e_874>', '<e_875>', '<e_876>', '<e_877>', '<e_878>', '<e_879>', '<e_880>', '<e_881>', '<e_882>', '<e_883>', '<e_884>', '<e_885>', '<e_886>', '<e_887>', '<e_888>', '<e_889>', '<e_890>', '<e_891>', '<e_892>', '<e_893>', '<e_894>', '<e_895>', '<e_896>', '<e_897>', '<e_898>', '<e_899>', '<e_900>', '<e_901>', '<e_902>', '<e_903>', '<e_904>', '<e_905>', '<e_906>', '<e_907>', '<e_908>', '<e_909>', '<e_910>', '<e_911>', '<e_912>', '<e_913>', '<e_914>', '<e_915>', '<e_916>', '<e_917>', '<e_918>', '<e_919>', '<e_920>', '<e_921>', '<e_922>', '<e_923>', '<e_924>', '<e_925>', '<e_926>', '<e_927>', '<e_928>', '<e_929>', '<e_930>', '<e_931>', '<e_932>', '<e_933>', '<e_934>', '<e_935>', '<e_936>', '<e_937>', '<e_938>', '<e_939>', '<e_940>', '<e_941>', '<e_942>', '<e_943>', '<e_944>', '<e_945>', '<e_946>', '<e_947>', '<e_948>', '<e_949>', '<e_950>', '<e_951>', '<e_952>', '<e_953>', '<e_954>', '<e_955>', '<e_956>', '<e_957>', '<e_958>', '<e_959>', '<e_960>', '<e_961>', '<e_962>', '<e_963>', '<e_964>', '<e_965>', '<e_966>', '<e_967>', '<e_968>', '<e_969>', '<e_970>', '<e_971>', '<e_972>', '<e_973>', '<e_974>', '<e_975>', '<e_976>', '<e_977>', '<e_978>', '<e_979>', '<e_980>', '<e_981>', '<e_982>', '<e_983>', '<e_984>', '<e_985>', '<e_986>', '<e_987>', '<e_988>', '<e_989>', '<e_990>', '<e_991>', '<e_992>', '<e_993>', '<e_994>', '<e_995>', '<e_996>', '<e_997>', '<e_998>', '<e_999>', '<attr_0>', '<attr_1>', '<attr_2>', '<attr_3>', '<attr_4>', '<attr_5>', '<attr_6>', '<attr_7>', '<attr_8>', '<attr_9>', '<attr_10>', '<attr_11>', '<attr_12>', '<attr_13>', '<attr_14>', '<attr_15>', '<attr_16>', '<attr_17>', '<attr_18>', '<attr_19>', '<0>', '<1>', '<2>', '<3>', '<4>', '<5>', '<6>', '<7>', '<8>', '<9>', '<10>', '<11>', '<12>', '<13>', '<14>', '<15>', '<16>', '<17>', '<18>', '<19>', '<20>', '<mask>', '<sep>', '<a>', '</a>', '<q>', '</q>']\n"
     ]
    }
   ],
   "source": [
    "# special tokens\n",
    "vocab = vocab + [\"<mask>\", \"<sep>\", \"<a>\", \"</a>\", \"<q>\", \"</q>\"]\n",
    "\n",
    "print(vocab)\n",
    "\n",
    "comp_q_tokens = attributes\n",
    "comp2labels = dict()\n",
    "for comp_q_token in comp_q_tokens:\n",
    "    comp2labels[comp_q_token] = [\"<\"+comp_q_token.strip(\"<>\")+\"_{}>\".format(i) for i in range(3)]\n",
    "    vocab = vocab + comp2labels[comp_q_token]"
   ]
  },
  {
   "cell_type": "code",
   "execution_count": 65,
   "metadata": {},
   "outputs": [
    {
     "name": "stdout",
     "output_type": "stream",
     "text": [
      "vocab size: 1107\n"
     ]
    }
   ],
   "source": [
    "assert len(vocab) == len(set(vocab))\n",
    "print(\"vocab size:\", len(vocab))"
   ]
  },
  {
   "cell_type": "code",
   "execution_count": null,
   "metadata": {},
   "outputs": [
    {
     "name": "stderr",
     "output_type": "stream",
     "text": [
      " 80%|████████  | 16/20 [02:25<00:36,  9.04s/it]"
     ]
    }
   ],
   "source": [
    "def format_atomic(entity, attr, val, t):\n",
    "    val = \"<{}>\".format(val)\n",
    "    input_text = \"\".join([entity, attr])\n",
    "    target_text = input_text + \"\".join([val, \"</a>\"])\n",
    "    return {\n",
    "        \"input_text\": input_text,\n",
    "        \"target_text\": target_text,\n",
    "        \"type\": t,\n",
    "    }\n",
    "\n",
    "def format_comp(comp_q_token, ent_1, ent_2, label, t):\n",
    "    input_text = \"\".join([comp_q_token, \"<q>\", ent_1, \"<mask>\", ent_2])\n",
    "    target_text = input_text + \"\".join([label, \"</a>\"])\n",
    "    return {\n",
    "        \"input_text\": input_text,\n",
    "        \"target_text\": target_text,\n",
    "        \"type\": t,\n",
    "    }\n",
    "\n",
    "num_id_entities_ratio = 0.9\n",
    "\n",
    "def compare_ent(ent_1, ent_2, attr):\n",
    "    val_1, val_2 = atomic_KB[entity2ind[ent_1], attribute2ind[attr]], atomic_KB[entity2ind[ent_2], attribute2ind[attr]]\n",
    "    return compare(\"<{}>\".format(val_1), \"<{}>\".format(val_2))\n",
    "\n",
    "id_atomic_facts, ood_atomic_facts, ood_atomic_unseen_value_facts = [], [], []\n",
    "train_inferred, test_inferred_id, test_inferred_id_unflip_pair, test_inferred_id_unseen_pair, test_inferred_ood, test_inferred_ood_unseen_pair, test_inferred_ood_unflip_pair, test_inferred_ood_unseen_value = [], [], [], [], [], [], [], []\n",
    "\n",
    "for comp_q_token in tqdm(comp_q_tokens):\n",
    "    copied_entities = deepcopy(entities)\n",
    "    ent_for_unseen_value = copied_entities.pop(change_ent_indices[attribute2ind[comp_q_token]])\n",
    "    assert len(copied_entities) == len(entities) - 1\n",
    "    id_entities, ood_entities = split(copied_entities, num_id_entities_ratio)\n",
    "\n",
    "    # add atomic facts\n",
    "    for entity in id_entities:\n",
    "        val = atomic_KB[entity2ind[entity], attribute2ind[comp_q_token]]\n",
    "        assert val != num_vals_per_attr-1\n",
    "        id_atomic_facts.append(format_atomic(entity, comp_q_token, val, t='id_atomic'))\n",
    "\n",
    "    for entity in ood_entities:\n",
    "        val = atomic_KB[entity2ind[entity], attribute2ind[comp_q_token]]\n",
    "        assert val != num_vals_per_attr-1\n",
    "        ood_atomic_facts.append(format_atomic(entity, comp_q_token, val, t='ood_atomic'))\n",
    "    \n",
    "    val = atomic_KB[entity2ind[ent_for_unseen_value], attribute2ind[comp_q_token]]\n",
    "    assert val == num_vals_per_attr-1\n",
    "    ood_atomic_unseen_value_facts.append(format_atomic(ent_for_unseen_value, comp_q_token, val, t='ood_atomic_unseen'))\n",
    "    \n",
    "    # add inferred facts\n",
    "    all_pairs = list(itertools.combinations(entities, 2))\n",
    "    for (ent_1, ent_2) in all_pairs:\n",
    "        val_1, val_2 = atomic_KB[entity2ind[ent_1], attribute2ind[comp_q_token]], atomic_KB[entity2ind[ent_2], attribute2ind[comp_q_token]]\n",
    "        if f\"<{val_1}>\" == unseen_value or f\"{val_2}\" == unseen_value:\n",
    "            ty = 'test_inferred_ood_unseen_value'\n",
    "            label = comp2labels[comp_q_token][compare_ent(ent_1, ent_2, comp_q_token)]\n",
    "            test_inferred_ood_unseen_value.append(format_comp(comp_q_token, ent_1, ent_2, label, t=ty))\n",
    "            # flip\n",
    "            label = comp2labels[comp_q_token][compare_ent(ent_2, ent_1, comp_q_token)]\n",
    "            test_inferred_ood_unseen_value.append(format_comp(comp_q_token, ent_2, ent_1, label, t=ty))\n",
    "        else:\n",
    "            value_pair = (f\"<{val_1}>\", f\"<{val_2}>\")\n",
    "            sorted_value_pair = tuple(sorted(value_pair, key=lambda x: int(x.strip(\"><\"))))\n",
    "            \n",
    "            if ent_1 in ood_entities and ent_2 in ood_entities:\n",
    "                if sorted_value_pair in unseen_value_pairs:\n",
    "                    ty = 'test_inferred_ood_unseen_pair'\n",
    "                    label = comp2labels[comp_q_token][compare_ent(ent_1, ent_2, comp_q_token)]\n",
    "                    test_inferred_ood_unseen_pair.append(format_comp(comp_q_token, ent_1, ent_2, label, t=ty))\n",
    "                    # flip\n",
    "                    label = comp2labels[comp_q_token][compare_ent(ent_2, ent_1, comp_q_token)]\n",
    "                    test_inferred_ood_unseen_pair.append(format_comp(comp_q_token, ent_2, ent_1, label, t=ty))\n",
    "                elif value_pair in unflip_value_pairs:\n",
    "                    ty = 'test_inferred_ood_unflip_pair'\n",
    "                    label = comp2labels[comp_q_token][compare_ent(ent_1, ent_2, comp_q_token)]\n",
    "                    test_inferred_ood_unflip_pair.append(format_comp(comp_q_token, ent_1, ent_2, label, t=ty))\n",
    "                else:\n",
    "                    ty = 'test_inferred_ood'\n",
    "                    label = comp2labels[comp_q_token][compare_ent(ent_1, ent_2, comp_q_token)]\n",
    "                    test_inferred_ood.append(format_comp(comp_q_token, ent_1, ent_2, label, t=ty))\n",
    "                    # flip\n",
    "                    label = comp2labels[comp_q_token][compare_ent(ent_2, ent_1, comp_q_token)]\n",
    "                    test_inferred_ood.append(format_comp(comp_q_token, ent_2, ent_1, label, t=ty))\n",
    "            elif ent_1 in id_entities and ent_2 in id_entities:\n",
    "                if sorted_value_pair in unseen_value_pairs:\n",
    "                    ty = 'test_inferred_id_unseen_pair'\n",
    "                    label = comp2labels[comp_q_token][compare_ent(ent_1, ent_2, comp_q_token)]\n",
    "                    test_inferred_id_unseen_pair.append(format_comp(comp_q_token, ent_1, ent_2, label, t=ty))\n",
    "                    # flip\n",
    "                    label = comp2labels[comp_q_token][compare_ent(ent_2, ent_1, comp_q_token)]\n",
    "                    test_inferred_id_unseen_pair.append(format_comp(comp_q_token, ent_2, ent_1, label, t=ty))\n",
    "                elif value_pair in unflip_value_pairs:\n",
    "                    ty = 'test_inferred_id_unflip_pair'\n",
    "                    label = comp2labels[comp_q_token][compare_ent(ent_1, ent_2, comp_q_token)]\n",
    "                    test_inferred_id_unflip_pair.append(format_comp(comp_q_token, ent_1, ent_2, label, t=ty))\n",
    "                else:                \n",
    "                    if np.random.uniform() < 0.1:\n",
    "                        ty = 'test_inferred_id'\n",
    "                        label = comp2labels[comp_q_token][compare_ent(ent_1, ent_2, comp_q_token)]\n",
    "                        test_inferred_id.append(format_comp(comp_q_token, ent_1, ent_2, label, t=ty))\n",
    "                        # flip\n",
    "                        label = comp2labels[comp_q_token][compare_ent(ent_2, ent_1, comp_q_token)]\n",
    "                        test_inferred_id.append(format_comp(comp_q_token, ent_2, ent_1, label, t=ty))\n",
    "                    else:\n",
    "                        ty = 'train_inferred'\n",
    "                        label = comp2labels[comp_q_token][compare_ent(ent_1, ent_2, comp_q_token)]\n",
    "                        train_inferred.append(format_comp(comp_q_token, ent_1, ent_2, label, t=ty))\n",
    "                        # flip\n",
    "                        label = comp2labels[comp_q_token][compare_ent(ent_2, ent_1, comp_q_token)]\n",
    "                        train_inferred.append(format_comp(comp_q_token, ent_2, ent_1, label, t=ty))\n",
    "            else:\n",
    "                pass"
   ]
  },
  {
   "cell_type": "code",
   "execution_count": null,
   "metadata": {},
   "outputs": [
    {
     "name": "stdout",
     "output_type": "stream",
     "text": [
      "17980 2000 20 12408672 1381088 367092 1622096 169992 4437 19134 17790\n"
     ]
    }
   ],
   "source": [
    "print(len(id_atomic_facts), \n",
    "      len(ood_atomic_facts), \n",
    "      len(ood_atomic_unseen_value_facts), \n",
    "      len(train_inferred), \n",
    "      len(test_inferred_id), \n",
    "      len(test_inferred_id_unflip_pair), \n",
    "      len(test_inferred_id_unseen_pair), \n",
    "      len(test_inferred_ood), \n",
    "      len(test_inferred_ood_unflip_pair), \n",
    "      len(test_inferred_ood_unseen_pair), \n",
    "      len(test_inferred_ood_unseen_value))"
   ]
  },
  {
   "cell_type": "code",
   "execution_count": null,
   "metadata": {},
   "outputs": [],
   "source": [
    "test_size = 3000\n",
    "\n",
    "\n",
    "test_inferred_ood_ds = choose(test_inferred_ood, test_size)\n",
    "\n",
    "probes = []\n",
    "probes = probes + test_inferred_ood_ds\n",
    "probes = probes + choose(id_atomic_facts, test_size)\n",
    "probes = probes + choose(ood_atomic_facts, test_size)\n",
    "probes = probes + choose(ood_atomic_unseen_value_facts, test_size)\n",
    "probes = probes + choose(test_inferred_id, test_size)\n",
    "probes = probes + choose(test_inferred_id_unflip_pair, test_size)\n",
    "probes = probes + choose(test_inferred_id_unseen_pair, test_size)\n",
    "probes = probes + choose(test_inferred_ood_unflip_pair, test_size)\n",
    "probes = probes + choose(test_inferred_ood_unseen_pair, test_size)\n",
    "probes = probes + choose(test_inferred_ood_unseen_value, test_size)\n",
    "\n",
    "all_atomics = id_atomic_facts + ood_atomic_facts"
   ]
  },
  {
   "cell_type": "code",
   "execution_count": null,
   "metadata": {},
   "outputs": [
    {
     "name": "stdout",
     "output_type": "stream",
     "text": [
      "train/test atomic, # train inferred: 17980 2000 129456\n"
     ]
    }
   ],
   "source": [
    "# downsampling inferred facts included in training\n",
    "for inf_atom_ratio in [7.2]:\n",
    "    dataset_name = \"comparison.{}.{}-controlled\".format(num_entities, inf_atom_ratio)\n",
    "    os.makedirs(\"data/{}\".format(dataset_name), exist_ok=True)\n",
    "\n",
    "    train_inferred_ds = choose(train_inferred, round(inf_atom_ratio*len(id_atomic_facts)))\n",
    "\n",
    "    probes_ = probes + choose(train_inferred_ds, test_size)\n",
    "\n",
    "    print(\"train/test atomic, # train inferred:\", len(id_atomic_facts), len(ood_atomic_facts), len(train_inferred_ds))\n",
    "    with open(\"data/{}/atomic_facts.json\".format(dataset_name), \"w\", encoding='utf-8') as f:\n",
    "        json.dump(all_atomics, f)\n",
    "    with open(\"data/{}/train.json\".format(dataset_name), \"w\", encoding='utf-8') as f:\n",
    "        json.dump(id_atomic_facts + ood_atomic_facts + train_inferred_ds, f)\n",
    "    with open(\"data/{}/valid.json\".format(dataset_name), \"w\", encoding='utf-8') as f:\n",
    "        json.dump(test_inferred_ood_ds, f)\n",
    "    with open(\"data/{}/test.json\".format(dataset_name), \"w\", encoding='utf-8') as f:\n",
    "        json.dump(probes_, f)\n",
    "    with open(\"data/{}/unseen_value_pairs.json\".format(dataset_name), \"w\", encoding='utf-8') as f:\n",
    "        json.dump(unseen_value_pairs, f)\n",
    "    with open(\"data/{}/unflip_value_pairs.json\".format(dataset_name), \"w\", encoding='utf-8') as f:\n",
    "        json.dump(unflip_value_pairs, f)\n",
    "    # add vocab\n",
    "    with open(\"data/{}/vocab.json\".format(dataset_name), \"w\", encoding='utf-8') as f:\n",
    "        json.dump(vocab, f)"
   ]
  }
 ],
 "metadata": {
  "kernelspec": {
   "display_name": "grokked_transformer",
   "language": "python",
   "name": "python3"
  },
  "language_info": {
   "codemirror_mode": {
    "name": "ipython",
    "version": 3
   },
   "file_extension": ".py",
   "mimetype": "text/x-python",
   "name": "python",
   "nbconvert_exporter": "python",
   "pygments_lexer": "ipython3",
   "version": "3.10.4"
  }
 },
 "nbformat": 4,
 "nbformat_minor": 2
}
